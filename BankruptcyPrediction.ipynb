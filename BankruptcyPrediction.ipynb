{
 "cells": [
  {
   "cell_type": "markdown",
   "metadata": {},
   "source": [
    "<h1>1. Real-World Problem </h1>"
   ]
  },
  {
   "cell_type": "markdown",
   "metadata": {},
   "source": [
    "<h2>1.1. Problem Statement </h2>"
   ]
  },
  {
   "cell_type": "markdown",
   "metadata": {},
   "source": [
    "Build a model on the basis given features and target column to predict whether a bank is going to get bankrupt for a given set of features"
   ]
  },
  {
   "cell_type": "markdown",
   "metadata": {},
   "source": [
    "<h2>1.2. Real-world objectives and constraints.</h2>"
   ]
  },
  {
   "cell_type": "markdown",
   "metadata": {},
   "source": [
    "1. Maximize AUC on train and CV data, gap of AUC on train and cv should be as low as possible"
   ]
  },
  {
   "cell_type": "markdown",
   "metadata": {},
   "source": [
    "<h1>2. Machine Learning Problem</h1>"
   ]
  },
  {
   "cell_type": "markdown",
   "metadata": {},
   "source": [
    "<h2>2.1. Data</h2>"
   ]
  },
  {
   "cell_type": "markdown",
   "metadata": {},
   "source": [
    "<h3>2.1.1. Data Overview</h3>"
   ]
  },
  {
   "cell_type": "markdown",
   "metadata": {},
   "source": [
    "<p> The dataset is about bankruptcy prediction of Polish companies. The data was collected from Emerging Markets Information Service (EMIS, [Web Link]), which is a database containing information on emerging markets around the world. The bankrupt companies were analysed in the period 2000-2012, while the still operating companies were evaluated from 2007 to 2013. </p>\n",
    "\n",
    "Basing on the collected data five classification cases were distinguished, that depends on the forecasting period:\n",
    "\n",
    "- 1st Year the data contains financial rates from 1st year of the forecasting period and corresponding class label that indicates bankruptcy status after 5 years. The data contains 7027 instances (financial statements), 271 represents bankrupted companies, 6756 firms that did not bankrupt in the forecasting period.\n",
    "- 2nd Year  the data contains financial rates from 2nd year of the forecasting period and corresponding class label that indicates bankruptcy status after 4 years. The data contains 10173 instances (financial statements), 400 represents bankrupted companies, 9773 firms that did not bankrupt in the forecasting period.\n",
    "- 3rd Year  the data contains financial rates from 3rd year of the forecasting period and corresponding class label that indicates bankruptcy status after 3 years. The data contains 10503 instances (financial statements), 495 represents bankrupted companies, 10008 firms that did not bankrupt in the forecasting period.\n",
    "- 4th Year the data contains financial rates from 4th year of the forecasting period and corresponding class label that indicates bankruptcy status after 2 years. The data contains 9792 instances (financial statements), 515 represents bankrupted companies, 9277 firms that did not bankrupt in the forecasting period.\n",
    "- 5th Year  the data contains financial rates from 5th year of the forecasting period and corresponding class label that indicates bankruptcy status after 1 year. The data contains 5910 instances (financial statements), 410 represents bankrupted companies, 5500 firms that did not bankrupt in the forecasting period.\n",
    "\n",
    "**` Class - 0 `** did not get bankrupt ,  **` Class - 1 `**  - got bankrupt\n"
   ]
  },
  {
   "cell_type": "markdown",
   "metadata": {},
   "source": [
    "Feature | Description \n",
    "----------|---------------\n",
    "**` X1 net profit `** | total assets\n",
    "X2 total liabilities | total assets\n",
    "X3 working capital | total assets\n",
    "X4 current assets | short-term liabilities\n",
    "X5 [(cash + short-term securities + receivables - short-term liabilities) | (operating expenses - depreciation)] * 365\n",
    "X6 retained earnings | total assets\n",
    "X7 EBIT | total assets\n",
    "X8 book value of equity | total liabilities\n",
    "X9 sales | total assets\n",
    "X10 equity | total assets\n",
    "X11 (gross profit + extraordinary items + financial expenses) | total assets\n",
    "X12 gross profit | short-term liabilities\n",
    "X13 (gross profit + depreciation) | sales\n",
    "X14 (gross profit + interest) | total assets\n",
    "X15 (total liabilities * 365) | (gross profit + depreciation)\n",
    "X16 (gross profit + depreciation) | total liabilities\n",
    "X17 total assets | total liabilities\n",
    "X18 gross profit | total assets\n",
    "X19 gross profit | sales\n",
    "X20 (inventory * 365) | sales\n",
    "X21 sales (n) | sales (n-1)\n",
    "X22 profit on operating activities | total assets\n",
    "X23 net profit | sales\n",
    "X24 gross profit (in 3 years) | total assets\n",
    "X25 (equity - share capital) | total assets\n",
    "X26 (net profit + depreciation) | total liabilities\n",
    "X27 profit on operating activities | financial expenses\n",
    "X28 working capital | fixed assets\n",
    "X29 logarithm of total assets\n",
    "X30 (total liabilities - cash) | sales\n",
    "X31 (gross profit + interest) | sales\n",
    "X32 (current liabilities * 365) | cost of products sold\n",
    "X33 operating expenses | short-term liabilities\n",
    "X34 operating expenses | total liabilities\n",
    "X35 profit on sales | total assets\n",
    "X36 total sales | total assets\n",
    "X37 (current assets - inventories) | long-term liabilities\n",
    "X38 constant capital | total assets\n",
    "X39 profit on sales | sales\n",
    "X40 (current assets - inventory - receivables) | short-term liabilities\n",
    "X41 total liabilities | ((profit on operating activities + depreciation) * (12|365))\n",
    "X42 profit on operating activities | sales\n",
    "X43 rotation receivables + inventory turnover in days\n",
    "X44 (receivables * 365) | sales\n",
    "X45 net profit | inventory\n",
    "X46 (current assets - inventory) | short-term liabilities\n",
    "X47 (inventory * 365) | cost of products sold\n",
    "X48 EBITDA (profit on operating activities - depreciation) | total assets\n",
    "X49 EBITDA (profit on operating activities - depreciation) | sales\n",
    "X50 current assets | total liabilities\n",
    "X51 short-term liabilities | total assets\n",
    "X52 (short-term liabilities * 365) | cost of products sold)\n",
    "X53 equity | fixed assets\n",
    "X54 constant capital | fixed assets\n",
    "X55 working capital\n",
    "X56 (sales - cost of products sold) | sales\n",
    "X57 (current assets - inventory - short-term liabilities) | (sales - gross profit - depreciation)\n",
    "X58 total costs |total sales\n",
    "X59 long-term liabilities | equity\n",
    "X60 sales | inventory\n",
    "X61 sales | receivables\n",
    "X62 (short-term liabilities *365) | sales\n",
    "X63 sales | short-term liabilities\n",
    "X64 sales | fixed assets\n",
    "\n",
    "\n",
    "\n"
   ]
  },
  {
   "cell_type": "markdown",
   "metadata": {},
   "source": [
    "<h2>2.2. Mapping the real-world problem to an ML problem</h2>"
   ]
  },
  {
   "cell_type": "markdown",
   "metadata": {},
   "source": [
    "<h3>2.2.1. Type of Machine Learning Problem</h3>"
   ]
  },
  {
   "cell_type": "markdown",
   "metadata": {},
   "source": [
    "<p>\n",
    " There are two different classes that we need to classify a given a data point => classification problem    \n",
    "</p>"
   ]
  },
  {
   "cell_type": "markdown",
   "metadata": {},
   "source": [
    "<h3>2.2.2. Performance Metric</h3>"
   ]
  },
  {
   "cell_type": "markdown",
   "metadata": {},
   "source": [
    "Metric: \n",
    "* ROC-AUC"
   ]
  },
  {
   "cell_type": "markdown",
   "metadata": {},
   "source": [
    "<h3>2.2.3. Machine Learing Objectives and Constraints</h3>"
   ]
  },
  {
   "cell_type": "markdown",
   "metadata": {},
   "source": [
    "<p> Objective: Predict the probability of each data-point belonging to each of the classes.\n",
    "</p>\n",
    "<p> Constraints:\n",
    "</p>\n",
    "\n",
    "* Class probabilities are needed."
   ]
  },
  {
   "cell_type": "markdown",
   "metadata": {},
   "source": [
    "<h2>2.3. Train and Test Dataset </h2>"
   ]
  },
  {
   "cell_type": "markdown",
   "metadata": {},
   "source": [
    "Split the dataset randomly into two parts train and cross validation  with 80%,20% of data respectively"
   ]
  },
  {
   "cell_type": "markdown",
   "metadata": {},
   "source": [
    "<h1>3. Exploratory Data Analysis</h1>"
   ]
  },
  {
   "cell_type": "code",
   "execution_count": 1,
   "metadata": {},
   "outputs": [],
   "source": [
    "%matplotlib inline\n",
    "import warnings\n",
    "warnings.filterwarnings(\"ignore\")\n",
    "\n",
    "import sqlite3\n",
    "import pandas as pd\n",
    "import numpy as np\n",
    "from sklearn.metrics import roc_curve, auc\n",
    "from sklearn.preprocessing import StandardScaler\n",
    "\n",
    "from tqdm import tqdm\n",
    "import os\n",
    "\n",
    "import matplotlib.pyplot as plt\n",
    "\n",
    "from sklearn.metrics import roc_auc_score\n",
    "\n",
    "from sklearn.model_selection import GridSearchCV,RandomizedSearchCV\n",
    "\n",
    "import xgboost as xgb\n",
    "import catboost\n",
    "import joblib\n",
    "from sklearn.impute import SimpleImputer"
   ]
  },
  {
   "cell_type": "markdown",
   "metadata": {},
   "source": [
    "<h2>3.1. Reading Data</h2>"
   ]
  },
  {
   "cell_type": "markdown",
   "metadata": {},
   "source": [
    "<h3>3.1.1. BankruptcyPrediction Data</h3>"
   ]
  },
  {
   "cell_type": "code",
   "execution_count": 2,
   "metadata": {},
   "outputs": [],
   "source": [
    "# readin\n",
    "year1 = pd.read_csv('1year.csv')\n",
    "year2 = pd.read_csv('2year.csv')\n",
    "year3 = pd.read_csv('3year.csv')\n",
    "year4 = pd.read_csv('4year.csv')\n",
    "year5 = pd.read_csv('5year.csv')"
   ]
  },
  {
   "cell_type": "code",
   "execution_count": 3,
   "metadata": {},
   "outputs": [
    {
     "name": "stdout",
     "output_type": "stream",
     "text": [
      "(7012, 65)\n",
      "(10173, 65)\n",
      "(10476, 65)\n",
      "(9539, 65)\n",
      "(5427, 65)\n"
     ]
    }
   ],
   "source": [
    "print(year1.shape)\n",
    "print(year2.shape)\n",
    "print(year3.shape)\n",
    "print(year4.shape)\n",
    "print(year5.shape)"
   ]
  },
  {
   "cell_type": "code",
   "execution_count": 4,
   "metadata": {},
   "outputs": [],
   "source": [
    "project_data = pd.concat([year1,year2,year3,year4,year4,year5])"
   ]
  },
  {
   "cell_type": "code",
   "execution_count": 5,
   "metadata": {},
   "outputs": [
    {
     "data": {
      "text/html": [
       "<div>\n",
       "<style scoped>\n",
       "    .dataframe tbody tr th:only-of-type {\n",
       "        vertical-align: middle;\n",
       "    }\n",
       "\n",
       "    .dataframe tbody tr th {\n",
       "        vertical-align: top;\n",
       "    }\n",
       "\n",
       "    .dataframe thead th {\n",
       "        text-align: right;\n",
       "    }\n",
       "</style>\n",
       "<table border=\"1\" class=\"dataframe\">\n",
       "  <thead>\n",
       "    <tr style=\"text-align: right;\">\n",
       "      <th></th>\n",
       "      <th>Attr1</th>\n",
       "      <th>Attr2</th>\n",
       "      <th>Attr3</th>\n",
       "      <th>Attr4</th>\n",
       "      <th>Attr5</th>\n",
       "      <th>Attr6</th>\n",
       "      <th>Attr7</th>\n",
       "      <th>Attr8</th>\n",
       "      <th>Attr9</th>\n",
       "      <th>Attr10</th>\n",
       "      <th>...</th>\n",
       "      <th>Attr56</th>\n",
       "      <th>Attr57</th>\n",
       "      <th>Attr58</th>\n",
       "      <th>Attr59</th>\n",
       "      <th>Attr60</th>\n",
       "      <th>Attr61</th>\n",
       "      <th>Attr62</th>\n",
       "      <th>Attr63</th>\n",
       "      <th>Attr64</th>\n",
       "      <th>class</th>\n",
       "    </tr>\n",
       "  </thead>\n",
       "  <tbody>\n",
       "    <tr>\n",
       "      <th>0</th>\n",
       "      <td>0.20055</td>\n",
       "      <td>0.37951</td>\n",
       "      <td>0.39641</td>\n",
       "      <td>2.0472</td>\n",
       "      <td>32.351</td>\n",
       "      <td>0.38825</td>\n",
       "      <td>0.24976</td>\n",
       "      <td>1.3305</td>\n",
       "      <td>1.1389</td>\n",
       "      <td>0.50494</td>\n",
       "      <td>...</td>\n",
       "      <td>0.12196</td>\n",
       "      <td>0.39718</td>\n",
       "      <td>0.87804</td>\n",
       "      <td>0.001924</td>\n",
       "      <td>8.416</td>\n",
       "      <td>5.1372</td>\n",
       "      <td>82.658</td>\n",
       "      <td>4.4158</td>\n",
       "      <td>7.4277</td>\n",
       "      <td>0</td>\n",
       "    </tr>\n",
       "    <tr>\n",
       "      <th>1</th>\n",
       "      <td>0.20912</td>\n",
       "      <td>0.49988</td>\n",
       "      <td>0.47225</td>\n",
       "      <td>1.9447</td>\n",
       "      <td>14.786</td>\n",
       "      <td>0</td>\n",
       "      <td>0.25834</td>\n",
       "      <td>0.99601</td>\n",
       "      <td>1.6996</td>\n",
       "      <td>0.49788</td>\n",
       "      <td>...</td>\n",
       "      <td>0.1213</td>\n",
       "      <td>0.42002</td>\n",
       "      <td>0.853</td>\n",
       "      <td>0</td>\n",
       "      <td>4.1486</td>\n",
       "      <td>3.2732</td>\n",
       "      <td>107.35</td>\n",
       "      <td>3.4</td>\n",
       "      <td>60.987</td>\n",
       "      <td>0</td>\n",
       "    </tr>\n",
       "    <tr>\n",
       "      <th>2</th>\n",
       "      <td>0.24866</td>\n",
       "      <td>0.69592</td>\n",
       "      <td>0.26713</td>\n",
       "      <td>1.5548</td>\n",
       "      <td>-1.1523</td>\n",
       "      <td>0</td>\n",
       "      <td>0.30906</td>\n",
       "      <td>0.43695</td>\n",
       "      <td>1.309</td>\n",
       "      <td>0.30408</td>\n",
       "      <td>...</td>\n",
       "      <td>0.24114</td>\n",
       "      <td>0.81774</td>\n",
       "      <td>0.76599</td>\n",
       "      <td>0.69484</td>\n",
       "      <td>4.9909</td>\n",
       "      <td>3.951</td>\n",
       "      <td>134.27</td>\n",
       "      <td>2.7185</td>\n",
       "      <td>5.2078</td>\n",
       "      <td>0</td>\n",
       "    </tr>\n",
       "    <tr>\n",
       "      <th>3</th>\n",
       "      <td>0.081483</td>\n",
       "      <td>0.30734</td>\n",
       "      <td>0.45879</td>\n",
       "      <td>2.4928</td>\n",
       "      <td>51.952</td>\n",
       "      <td>0.14988</td>\n",
       "      <td>0.092704</td>\n",
       "      <td>1.8661</td>\n",
       "      <td>1.0571</td>\n",
       "      <td>0.57353</td>\n",
       "      <td>...</td>\n",
       "      <td>0.054015</td>\n",
       "      <td>0.14207</td>\n",
       "      <td>0.94598</td>\n",
       "      <td>0</td>\n",
       "      <td>4.5746</td>\n",
       "      <td>3.6147</td>\n",
       "      <td>86.435</td>\n",
       "      <td>4.2228</td>\n",
       "      <td>5.5497</td>\n",
       "      <td>0</td>\n",
       "    </tr>\n",
       "    <tr>\n",
       "      <th>4</th>\n",
       "      <td>0.18732</td>\n",
       "      <td>0.61323</td>\n",
       "      <td>0.2296</td>\n",
       "      <td>1.4063</td>\n",
       "      <td>-7.3128</td>\n",
       "      <td>0.18732</td>\n",
       "      <td>0.18732</td>\n",
       "      <td>0.6307</td>\n",
       "      <td>1.1559</td>\n",
       "      <td>0.38677</td>\n",
       "      <td>...</td>\n",
       "      <td>0.13485</td>\n",
       "      <td>0.48431</td>\n",
       "      <td>0.86515</td>\n",
       "      <td>0.12444</td>\n",
       "      <td>6.3985</td>\n",
       "      <td>4.3158</td>\n",
       "      <td>127.21</td>\n",
       "      <td>2.8692</td>\n",
       "      <td>7.898</td>\n",
       "      <td>0</td>\n",
       "    </tr>\n",
       "  </tbody>\n",
       "</table>\n",
       "<p>5 rows × 65 columns</p>\n",
       "</div>"
      ],
      "text/plain": [
       "      Attr1    Attr2    Attr3   Attr4    Attr5    Attr6     Attr7    Attr8  \\\n",
       "0   0.20055  0.37951  0.39641  2.0472   32.351  0.38825   0.24976   1.3305   \n",
       "1   0.20912  0.49988  0.47225  1.9447   14.786        0   0.25834  0.99601   \n",
       "2   0.24866  0.69592  0.26713  1.5548  -1.1523        0   0.30906  0.43695   \n",
       "3  0.081483  0.30734  0.45879  2.4928   51.952  0.14988  0.092704   1.8661   \n",
       "4   0.18732  0.61323   0.2296  1.4063  -7.3128  0.18732   0.18732   0.6307   \n",
       "\n",
       "    Attr9   Attr10  ...    Attr56   Attr57   Attr58    Attr59  Attr60  Attr61  \\\n",
       "0  1.1389  0.50494  ...   0.12196  0.39718  0.87804  0.001924   8.416  5.1372   \n",
       "1  1.6996  0.49788  ...    0.1213  0.42002    0.853         0  4.1486  3.2732   \n",
       "2   1.309  0.30408  ...   0.24114  0.81774  0.76599   0.69484  4.9909   3.951   \n",
       "3  1.0571  0.57353  ...  0.054015  0.14207  0.94598         0  4.5746  3.6147   \n",
       "4  1.1559  0.38677  ...   0.13485  0.48431  0.86515   0.12444  6.3985  4.3158   \n",
       "\n",
       "   Attr62  Attr63  Attr64 class  \n",
       "0  82.658  4.4158  7.4277     0  \n",
       "1  107.35     3.4  60.987     0  \n",
       "2  134.27  2.7185  5.2078     0  \n",
       "3  86.435  4.2228  5.5497     0  \n",
       "4  127.21  2.8692   7.898     0  \n",
       "\n",
       "[5 rows x 65 columns]"
      ]
     },
     "execution_count": 5,
     "metadata": {},
     "output_type": "execute_result"
    }
   ],
   "source": [
    "project_data.head(5)"
   ]
  },
  {
   "cell_type": "code",
   "execution_count": 6,
   "metadata": {
    "scrolled": true
   },
   "outputs": [
    {
     "name": "stdout",
     "output_type": "stream",
     "text": [
      "<class 'pandas.core.frame.DataFrame'>\n",
      "Int64Index: 52166 entries, 0 to 5426\n",
      "Data columns (total 65 columns):\n",
      " #   Column  Non-Null Count  Dtype \n",
      "---  ------  --------------  ----- \n",
      " 0   Attr1   52166 non-null  object\n",
      " 1   Attr2   52166 non-null  object\n",
      " 2   Attr3   52166 non-null  object\n",
      " 3   Attr4   52166 non-null  object\n",
      " 4   Attr5   52166 non-null  object\n",
      " 5   Attr6   52166 non-null  object\n",
      " 6   Attr7   52166 non-null  object\n",
      " 7   Attr8   52166 non-null  object\n",
      " 8   Attr9   52166 non-null  object\n",
      " 9   Attr10  52166 non-null  object\n",
      " 10  Attr11  52166 non-null  object\n",
      " 11  Attr12  52166 non-null  object\n",
      " 12  Attr13  52166 non-null  object\n",
      " 13  Attr14  52166 non-null  object\n",
      " 14  Attr15  52166 non-null  object\n",
      " 15  Attr16  52166 non-null  object\n",
      " 16  Attr17  52166 non-null  object\n",
      " 17  Attr18  52166 non-null  object\n",
      " 18  Attr19  52166 non-null  object\n",
      " 19  Attr20  52166 non-null  object\n",
      " 20  Attr21  52166 non-null  object\n",
      " 21  Attr22  52166 non-null  object\n",
      " 22  Attr23  52166 non-null  object\n",
      " 23  Attr24  52166 non-null  object\n",
      " 24  Attr25  52166 non-null  object\n",
      " 25  Attr26  52166 non-null  object\n",
      " 26  Attr27  52166 non-null  object\n",
      " 27  Attr28  52166 non-null  object\n",
      " 28  Attr29  52166 non-null  object\n",
      " 29  Attr30  52166 non-null  object\n",
      " 30  Attr31  52166 non-null  object\n",
      " 31  Attr32  52166 non-null  object\n",
      " 32  Attr33  52166 non-null  object\n",
      " 33  Attr34  52166 non-null  object\n",
      " 34  Attr35  52166 non-null  object\n",
      " 35  Attr36  52166 non-null  object\n",
      " 36  Attr37  52166 non-null  object\n",
      " 37  Attr38  52166 non-null  object\n",
      " 38  Attr39  52166 non-null  object\n",
      " 39  Attr40  52166 non-null  object\n",
      " 40  Attr41  52166 non-null  object\n",
      " 41  Attr42  52166 non-null  object\n",
      " 42  Attr43  52166 non-null  object\n",
      " 43  Attr44  52166 non-null  object\n",
      " 44  Attr45  52166 non-null  object\n",
      " 45  Attr46  52166 non-null  object\n",
      " 46  Attr47  52166 non-null  object\n",
      " 47  Attr48  52166 non-null  object\n",
      " 48  Attr49  52166 non-null  object\n",
      " 49  Attr50  52166 non-null  object\n",
      " 50  Attr51  52166 non-null  object\n",
      " 51  Attr52  52166 non-null  object\n",
      " 52  Attr53  52166 non-null  object\n",
      " 53  Attr54  52166 non-null  object\n",
      " 54  Attr55  52166 non-null  object\n",
      " 55  Attr56  52166 non-null  object\n",
      " 56  Attr57  52166 non-null  object\n",
      " 57  Attr58  52166 non-null  object\n",
      " 58  Attr59  52166 non-null  object\n",
      " 59  Attr60  52166 non-null  object\n",
      " 60  Attr61  52166 non-null  object\n",
      " 61  Attr62  52166 non-null  object\n",
      " 62  Attr63  52166 non-null  object\n",
      " 63  Attr64  52166 non-null  object\n",
      " 64  class   52166 non-null  int64 \n",
      "dtypes: int64(1), object(64)\n",
      "memory usage: 26.3+ MB\n"
     ]
    }
   ],
   "source": [
    "# checking if i have got the Null values into the data \n",
    "project_data.info()"
   ]
  },
  {
   "cell_type": "code",
   "execution_count": 7,
   "metadata": {},
   "outputs": [],
   "source": [
    "# Replacing the \"?\" with NaN values in the dataset to impute with mean of \n",
    "project_data = project_data.replace('?',np.nan)"
   ]
  },
  {
   "cell_type": "code",
   "execution_count": 8,
   "metadata": {},
   "outputs": [
    {
     "name": "stdout",
     "output_type": "stream",
     "text": [
      "<class 'pandas.core.frame.DataFrame'>\n",
      "Int64Index: 52166 entries, 0 to 5426\n",
      "Data columns (total 65 columns):\n",
      " #   Column  Non-Null Count  Dtype  \n",
      "---  ------  --------------  -----  \n",
      " 0   Attr1   52157 non-null  float64\n",
      " 1   Attr2   52157 non-null  float64\n",
      " 2   Attr3   52157 non-null  float64\n",
      " 3   Attr4   51991 non-null  float64\n",
      " 4   Attr5   52059 non-null  float64\n",
      " 5   Attr6   52157 non-null  float64\n",
      " 6   Attr7   52157 non-null  float64\n",
      " 7   Attr8   52053 non-null  float64\n",
      " 8   Attr9   52157 non-null  float64\n",
      " 9   Attr10  52157 non-null  float64\n",
      " 10  Attr11  52122 non-null  float64\n",
      " 11  Attr12  51991 non-null  float64\n",
      " 12  Attr13  52019 non-null  float64\n",
      " 13  Attr14  52157 non-null  float64\n",
      " 14  Attr15  52122 non-null  float64\n",
      " 15  Attr16  52052 non-null  float64\n",
      " 16  Attr17  52053 non-null  float64\n",
      " 17  Attr18  52157 non-null  float64\n",
      " 18  Attr19  52018 non-null  float64\n",
      " 19  Attr20  52019 non-null  float64\n",
      " 20  Attr21  46167 non-null  float64\n",
      " 21  Attr22  52157 non-null  float64\n",
      " 22  Attr23  52019 non-null  float64\n",
      " 23  Attr24  51443 non-null  float64\n",
      " 24  Attr25  52157 non-null  float64\n",
      " 25  Attr26  52052 non-null  float64\n",
      " 26  Attr27  48812 non-null  float64\n",
      " 27  Attr28  51144 non-null  float64\n",
      " 28  Attr29  52157 non-null  float64\n",
      " 29  Attr30  52019 non-null  float64\n",
      " 30  Attr31  52019 non-null  float64\n",
      " 31  Attr32  51711 non-null  float64\n",
      " 32  Attr33  51991 non-null  float64\n",
      " 33  Attr34  52053 non-null  float64\n",
      " 34  Attr35  52157 non-null  float64\n",
      " 35  Attr36  52157 non-null  float64\n",
      " 36  Attr37  29206 non-null  float64\n",
      " 37  Attr38  52157 non-null  float64\n",
      " 38  Attr39  52019 non-null  float64\n",
      " 39  Attr40  51991 non-null  float64\n",
      " 40  Attr41  51241 non-null  float64\n",
      " 41  Attr42  52019 non-null  float64\n",
      " 42  Attr43  52019 non-null  float64\n",
      " 43  Attr44  52019 non-null  float64\n",
      " 44  Attr45  49436 non-null  float64\n",
      " 45  Attr46  51990 non-null  float64\n",
      " 46  Attr47  51804 non-null  float64\n",
      " 47  Attr48  52156 non-null  float64\n",
      " 48  Attr49  52019 non-null  float64\n",
      " 49  Attr50  52053 non-null  float64\n",
      " 50  Attr51  52157 non-null  float64\n",
      " 51  Attr52  51797 non-null  float64\n",
      " 52  Attr53  51144 non-null  float64\n",
      " 53  Attr54  51144 non-null  float64\n",
      " 54  Attr55  52165 non-null  float64\n",
      " 55  Attr56  52019 non-null  float64\n",
      " 56  Attr57  52158 non-null  float64\n",
      " 57  Attr58  52067 non-null  float64\n",
      " 58  Attr59  52158 non-null  float64\n",
      " 59  Attr60  49430 non-null  float64\n",
      " 60  Attr61  52035 non-null  float64\n",
      " 61  Attr62  52019 non-null  float64\n",
      " 62  Attr63  51991 non-null  float64\n",
      " 63  Attr64  51144 non-null  float64\n",
      " 64  class   52166 non-null  int64  \n",
      "dtypes: float64(64), int64(1)\n",
      "memory usage: 26.3 MB\n"
     ]
    }
   ],
   "source": [
    "# changing the data types to float64 for all the attributes \n",
    "cols = project_data.columns\n",
    "def convert_datatype():\n",
    "    pro = {}\n",
    "    for col in cols:\n",
    "        if(col != 'class'):\n",
    "            pro[col] = float\n",
    "        else:\n",
    "            pro[col] = int\n",
    "    return pro\n",
    "    \n",
    "pro = convert_datatype()\n",
    "project_data = project_data.astype(pro)\n",
    "project_data.info()"
   ]
  },
  {
   "cell_type": "code",
   "execution_count": 9,
   "metadata": {},
   "outputs": [
    {
     "name": "stdout",
     "output_type": "stream",
     "text": [
      "0    49602\n",
      "1     2564\n",
      "Name: class, dtype: int64\n"
     ]
    },
    {
     "data": {
      "text/plain": [
       "4.913161829544148"
      ]
     },
     "execution_count": 9,
     "metadata": {},
     "output_type": "execute_result"
    }
   ],
   "source": [
    "#  datasets are highly inbalanced as only 4.80% data have class == 1 ( companies filed bankrupcy)\n",
    "# therefore we will use the AUC will be used to find the model performance \n",
    "print(project_data['class'].value_counts())\n",
    "project_data[project_data['class'] == 1].count()[1]/ project_data['class'].count() * 100"
   ]
  },
  {
   "cell_type": "code",
   "execution_count": 10,
   "metadata": {},
   "outputs": [
    {
     "data": {
      "text/html": [
       "<div>\n",
       "<style scoped>\n",
       "    .dataframe tbody tr th:only-of-type {\n",
       "        vertical-align: middle;\n",
       "    }\n",
       "\n",
       "    .dataframe tbody tr th {\n",
       "        vertical-align: top;\n",
       "    }\n",
       "\n",
       "    .dataframe thead th {\n",
       "        text-align: right;\n",
       "    }\n",
       "</style>\n",
       "<table border=\"1\" class=\"dataframe\">\n",
       "  <thead>\n",
       "    <tr style=\"text-align: right;\">\n",
       "      <th></th>\n",
       "      <th>Attr1</th>\n",
       "      <th>Attr2</th>\n",
       "      <th>Attr3</th>\n",
       "      <th>Attr4</th>\n",
       "      <th>Attr5</th>\n",
       "      <th>Attr6</th>\n",
       "      <th>Attr7</th>\n",
       "      <th>Attr8</th>\n",
       "      <th>Attr9</th>\n",
       "      <th>Attr10</th>\n",
       "      <th>...</th>\n",
       "      <th>Attr56</th>\n",
       "      <th>Attr57</th>\n",
       "      <th>Attr58</th>\n",
       "      <th>Attr59</th>\n",
       "      <th>Attr60</th>\n",
       "      <th>Attr61</th>\n",
       "      <th>Attr62</th>\n",
       "      <th>Attr63</th>\n",
       "      <th>Attr64</th>\n",
       "      <th>class</th>\n",
       "    </tr>\n",
       "  </thead>\n",
       "  <tbody>\n",
       "    <tr>\n",
       "      <th>count</th>\n",
       "      <td>52157.000000</td>\n",
       "      <td>52157.000000</td>\n",
       "      <td>52157.000000</td>\n",
       "      <td>51991.000000</td>\n",
       "      <td>5.205900e+04</td>\n",
       "      <td>52157.000000</td>\n",
       "      <td>52157.000000</td>\n",
       "      <td>52053.000000</td>\n",
       "      <td>52157.000000</td>\n",
       "      <td>52157.000000</td>\n",
       "      <td>...</td>\n",
       "      <td>5.201900e+04</td>\n",
       "      <td>52158.000000</td>\n",
       "      <td>5.206700e+04</td>\n",
       "      <td>52158.000000</td>\n",
       "      <td>4.943000e+04</td>\n",
       "      <td>52035.000000</td>\n",
       "      <td>5.201900e+04</td>\n",
       "      <td>51991.000000</td>\n",
       "      <td>51144.000000</td>\n",
       "      <td>52166.000000</td>\n",
       "    </tr>\n",
       "    <tr>\n",
       "      <th>mean</th>\n",
       "      <td>0.036233</td>\n",
       "      <td>0.593828</td>\n",
       "      <td>0.114700</td>\n",
       "      <td>6.712170</td>\n",
       "      <td>-3.091119e+02</td>\n",
       "      <td>-0.058640</td>\n",
       "      <td>0.087610</td>\n",
       "      <td>14.183377</td>\n",
       "      <td>2.532196</td>\n",
       "      <td>0.584507</td>\n",
       "      <td>...</td>\n",
       "      <td>-2.200166e+01</td>\n",
       "      <td>-0.003459</td>\n",
       "      <td>2.517735e+01</td>\n",
       "      <td>1.259351</td>\n",
       "      <td>3.944654e+02</td>\n",
       "      <td>18.754640</td>\n",
       "      <td>1.626185e+03</td>\n",
       "      <td>9.267966</td>\n",
       "      <td>66.428415</td>\n",
       "      <td>0.049151</td>\n",
       "    </tr>\n",
       "    <tr>\n",
       "      <th>std</th>\n",
       "      <td>2.735434</td>\n",
       "      <td>5.687854</td>\n",
       "      <td>5.340165</td>\n",
       "      <td>297.451285</td>\n",
       "      <td>5.622896e+04</td>\n",
       "      <td>7.201272</td>\n",
       "      <td>5.216327</td>\n",
       "      <td>551.901654</td>\n",
       "      <td>57.913269</td>\n",
       "      <td>13.529209</td>\n",
       "      <td>...</td>\n",
       "      <td>4.859771e+03</td>\n",
       "      <td>13.060145</td>\n",
       "      <td>4.865845e+03</td>\n",
       "      <td>111.956650</td>\n",
       "      <td>2.958216e+04</td>\n",
       "      <td>693.665284</td>\n",
       "      <td>1.367975e+05</td>\n",
       "      <td>116.295310</td>\n",
       "      <td>2170.816169</td>\n",
       "      <td>0.216185</td>\n",
       "    </tr>\n",
       "    <tr>\n",
       "      <th>min</th>\n",
       "      <td>-463.890000</td>\n",
       "      <td>-430.870000</td>\n",
       "      <td>-479.960000</td>\n",
       "      <td>-0.403110</td>\n",
       "      <td>-1.190300e+07</td>\n",
       "      <td>-508.410000</td>\n",
       "      <td>-517.480000</td>\n",
       "      <td>-141.410000</td>\n",
       "      <td>-3.496000</td>\n",
       "      <td>-479.910000</td>\n",
       "      <td>...</td>\n",
       "      <td>-1.108300e+06</td>\n",
       "      <td>-1667.300000</td>\n",
       "      <td>-1.986900e+02</td>\n",
       "      <td>-327.970000</td>\n",
       "      <td>-1.244000e+01</td>\n",
       "      <td>-12.656000</td>\n",
       "      <td>-2.336500e+06</td>\n",
       "      <td>-1.543200</td>\n",
       "      <td>-10677.000000</td>\n",
       "      <td>0.000000</td>\n",
       "    </tr>\n",
       "    <tr>\n",
       "      <th>25%</th>\n",
       "      <td>0.003049</td>\n",
       "      <td>0.268860</td>\n",
       "      <td>0.020447</td>\n",
       "      <td>1.047600</td>\n",
       "      <td>-4.982300e+01</td>\n",
       "      <td>0.000000</td>\n",
       "      <td>0.005142</td>\n",
       "      <td>0.428620</td>\n",
       "      <td>1.016500</td>\n",
       "      <td>0.294550</td>\n",
       "      <td>...</td>\n",
       "      <td>8.179000e-03</td>\n",
       "      <td>0.013463</td>\n",
       "      <td>8.771350e-01</td>\n",
       "      <td>0.000000</td>\n",
       "      <td>5.521075e+00</td>\n",
       "      <td>4.498500</td>\n",
       "      <td>4.217250e+01</td>\n",
       "      <td>3.075850</td>\n",
       "      <td>2.143775</td>\n",
       "      <td>0.000000</td>\n",
       "    </tr>\n",
       "    <tr>\n",
       "      <th>50%</th>\n",
       "      <td>0.047860</td>\n",
       "      <td>0.471940</td>\n",
       "      <td>0.196200</td>\n",
       "      <td>1.570100</td>\n",
       "      <td>-1.055300e+00</td>\n",
       "      <td>0.000000</td>\n",
       "      <td>0.057396</td>\n",
       "      <td>1.070400</td>\n",
       "      <td>1.192400</td>\n",
       "      <td>0.505980</td>\n",
       "      <td>...</td>\n",
       "      <td>5.114800e-02</td>\n",
       "      <td>0.115480</td>\n",
       "      <td>9.524300e-01</td>\n",
       "      <td>0.005481</td>\n",
       "      <td>9.785200e+00</td>\n",
       "      <td>6.610200</td>\n",
       "      <td>7.180700e+01</td>\n",
       "      <td>5.052400</td>\n",
       "      <td>4.243600</td>\n",
       "      <td>0.000000</td>\n",
       "    </tr>\n",
       "    <tr>\n",
       "      <th>75%</th>\n",
       "      <td>0.126330</td>\n",
       "      <td>0.689090</td>\n",
       "      <td>0.403640</td>\n",
       "      <td>2.795400</td>\n",
       "      <td>5.116750e+01</td>\n",
       "      <td>0.083498</td>\n",
       "      <td>0.147460</td>\n",
       "      <td>2.618800</td>\n",
       "      <td>2.054600</td>\n",
       "      <td>0.709680</td>\n",
       "      <td>...</td>\n",
       "      <td>1.268500e-01</td>\n",
       "      <td>0.278012</td>\n",
       "      <td>9.932500e-01</td>\n",
       "      <td>0.233860</td>\n",
       "      <td>2.017700e+01</td>\n",
       "      <td>10.364000</td>\n",
       "      <td>1.179300e+02</td>\n",
       "      <td>8.581600</td>\n",
       "      <td>9.726925</td>\n",
       "      <td>0.000000</td>\n",
       "    </tr>\n",
       "    <tr>\n",
       "      <th>max</th>\n",
       "      <td>94.280000</td>\n",
       "      <td>480.960000</td>\n",
       "      <td>28.336000</td>\n",
       "      <td>53433.000000</td>\n",
       "      <td>1.250100e+06</td>\n",
       "      <td>543.250000</td>\n",
       "      <td>649.230000</td>\n",
       "      <td>53432.000000</td>\n",
       "      <td>9742.300000</td>\n",
       "      <td>1099.500000</td>\n",
       "      <td>...</td>\n",
       "      <td>2.931500e+02</td>\n",
       "      <td>552.640000</td>\n",
       "      <td>1.108300e+06</td>\n",
       "      <td>23853.000000</td>\n",
       "      <td>4.818700e+06</td>\n",
       "      <td>108000.000000</td>\n",
       "      <td>2.501600e+07</td>\n",
       "      <td>23454.000000</td>\n",
       "      <td>294770.000000</td>\n",
       "      <td>1.000000</td>\n",
       "    </tr>\n",
       "  </tbody>\n",
       "</table>\n",
       "<p>8 rows × 65 columns</p>\n",
       "</div>"
      ],
      "text/plain": [
       "              Attr1         Attr2         Attr3         Attr4         Attr5  \\\n",
       "count  52157.000000  52157.000000  52157.000000  51991.000000  5.205900e+04   \n",
       "mean       0.036233      0.593828      0.114700      6.712170 -3.091119e+02   \n",
       "std        2.735434      5.687854      5.340165    297.451285  5.622896e+04   \n",
       "min     -463.890000   -430.870000   -479.960000     -0.403110 -1.190300e+07   \n",
       "25%        0.003049      0.268860      0.020447      1.047600 -4.982300e+01   \n",
       "50%        0.047860      0.471940      0.196200      1.570100 -1.055300e+00   \n",
       "75%        0.126330      0.689090      0.403640      2.795400  5.116750e+01   \n",
       "max       94.280000    480.960000     28.336000  53433.000000  1.250100e+06   \n",
       "\n",
       "              Attr6         Attr7         Attr8         Attr9        Attr10  \\\n",
       "count  52157.000000  52157.000000  52053.000000  52157.000000  52157.000000   \n",
       "mean      -0.058640      0.087610     14.183377      2.532196      0.584507   \n",
       "std        7.201272      5.216327    551.901654     57.913269     13.529209   \n",
       "min     -508.410000   -517.480000   -141.410000     -3.496000   -479.910000   \n",
       "25%        0.000000      0.005142      0.428620      1.016500      0.294550   \n",
       "50%        0.000000      0.057396      1.070400      1.192400      0.505980   \n",
       "75%        0.083498      0.147460      2.618800      2.054600      0.709680   \n",
       "max      543.250000    649.230000  53432.000000   9742.300000   1099.500000   \n",
       "\n",
       "       ...        Attr56        Attr57        Attr58        Attr59  \\\n",
       "count  ...  5.201900e+04  52158.000000  5.206700e+04  52158.000000   \n",
       "mean   ... -2.200166e+01     -0.003459  2.517735e+01      1.259351   \n",
       "std    ...  4.859771e+03     13.060145  4.865845e+03    111.956650   \n",
       "min    ... -1.108300e+06  -1667.300000 -1.986900e+02   -327.970000   \n",
       "25%    ...  8.179000e-03      0.013463  8.771350e-01      0.000000   \n",
       "50%    ...  5.114800e-02      0.115480  9.524300e-01      0.005481   \n",
       "75%    ...  1.268500e-01      0.278012  9.932500e-01      0.233860   \n",
       "max    ...  2.931500e+02    552.640000  1.108300e+06  23853.000000   \n",
       "\n",
       "             Attr60         Attr61        Attr62        Attr63         Attr64  \\\n",
       "count  4.943000e+04   52035.000000  5.201900e+04  51991.000000   51144.000000   \n",
       "mean   3.944654e+02      18.754640  1.626185e+03      9.267966      66.428415   \n",
       "std    2.958216e+04     693.665284  1.367975e+05    116.295310    2170.816169   \n",
       "min   -1.244000e+01     -12.656000 -2.336500e+06     -1.543200  -10677.000000   \n",
       "25%    5.521075e+00       4.498500  4.217250e+01      3.075850       2.143775   \n",
       "50%    9.785200e+00       6.610200  7.180700e+01      5.052400       4.243600   \n",
       "75%    2.017700e+01      10.364000  1.179300e+02      8.581600       9.726925   \n",
       "max    4.818700e+06  108000.000000  2.501600e+07  23454.000000  294770.000000   \n",
       "\n",
       "              class  \n",
       "count  52166.000000  \n",
       "mean       0.049151  \n",
       "std        0.216185  \n",
       "min        0.000000  \n",
       "25%        0.000000  \n",
       "50%        0.000000  \n",
       "75%        0.000000  \n",
       "max        1.000000  \n",
       "\n",
       "[8 rows x 65 columns]"
      ]
     },
     "execution_count": 10,
     "metadata": {},
     "output_type": "execute_result"
    }
   ],
   "source": [
    "project_data.describe()"
   ]
  },
  {
   "cell_type": "code",
   "execution_count": 11,
   "metadata": {},
   "outputs": [
    {
     "data": {
      "text/html": [
       "<div>\n",
       "<style scoped>\n",
       "    .dataframe tbody tr th:only-of-type {\n",
       "        vertical-align: middle;\n",
       "    }\n",
       "\n",
       "    .dataframe tbody tr th {\n",
       "        vertical-align: top;\n",
       "    }\n",
       "\n",
       "    .dataframe thead th {\n",
       "        text-align: right;\n",
       "    }\n",
       "</style>\n",
       "<table border=\"1\" class=\"dataframe\">\n",
       "  <thead>\n",
       "    <tr style=\"text-align: right;\">\n",
       "      <th></th>\n",
       "      <th>Attr1</th>\n",
       "      <th>Attr2</th>\n",
       "      <th>Attr3</th>\n",
       "      <th>Attr4</th>\n",
       "      <th>Attr5</th>\n",
       "      <th>Attr6</th>\n",
       "      <th>Attr7</th>\n",
       "      <th>Attr8</th>\n",
       "      <th>Attr9</th>\n",
       "      <th>Attr10</th>\n",
       "      <th>...</th>\n",
       "      <th>Attr55</th>\n",
       "      <th>Attr56</th>\n",
       "      <th>Attr57</th>\n",
       "      <th>Attr58</th>\n",
       "      <th>Attr59</th>\n",
       "      <th>Attr60</th>\n",
       "      <th>Attr61</th>\n",
       "      <th>Attr62</th>\n",
       "      <th>Attr63</th>\n",
       "      <th>Attr64</th>\n",
       "    </tr>\n",
       "  </thead>\n",
       "  <tbody>\n",
       "    <tr>\n",
       "      <th>0</th>\n",
       "      <td>0.20055</td>\n",
       "      <td>0.37951</td>\n",
       "      <td>0.39641</td>\n",
       "      <td>2.0472</td>\n",
       "      <td>32.351</td>\n",
       "      <td>0.38825</td>\n",
       "      <td>0.24976</td>\n",
       "      <td>1.3305</td>\n",
       "      <td>1.1389</td>\n",
       "      <td>0.50494</td>\n",
       "      <td>...</td>\n",
       "      <td>348690.0</td>\n",
       "      <td>0.12196</td>\n",
       "      <td>0.39718</td>\n",
       "      <td>0.87804</td>\n",
       "      <td>0.001924</td>\n",
       "      <td>8.416</td>\n",
       "      <td>5.1372</td>\n",
       "      <td>82.658</td>\n",
       "      <td>4.4158</td>\n",
       "      <td>7.4277</td>\n",
       "    </tr>\n",
       "  </tbody>\n",
       "</table>\n",
       "<p>1 rows × 64 columns</p>\n",
       "</div>"
      ],
      "text/plain": [
       "     Attr1    Attr2    Attr3   Attr4   Attr5    Attr6    Attr7   Attr8  \\\n",
       "0  0.20055  0.37951  0.39641  2.0472  32.351  0.38825  0.24976  1.3305   \n",
       "\n",
       "    Attr9   Attr10  ...    Attr55   Attr56   Attr57   Attr58    Attr59  \\\n",
       "0  1.1389  0.50494  ...  348690.0  0.12196  0.39718  0.87804  0.001924   \n",
       "\n",
       "   Attr60  Attr61  Attr62  Attr63  Attr64  \n",
       "0   8.416  5.1372  82.658  4.4158  7.4277  \n",
       "\n",
       "[1 rows x 64 columns]"
      ]
     },
     "execution_count": 11,
     "metadata": {},
     "output_type": "execute_result"
    }
   ],
   "source": [
    "# dropping target from the data sets and storing into y\n",
    "y = project_data['class'].values\n",
    "project_data.drop(['class'], axis=1, inplace=True)\n",
    "project_data.head(1)"
   ]
  },
  {
   "cell_type": "code",
   "execution_count": 12,
   "metadata": {},
   "outputs": [],
   "source": [
    "x = project_data"
   ]
  },
  {
   "cell_type": "markdown",
   "metadata": {},
   "source": [
    "<h4>3.2. Splitting  data into train and cross validation (80:20)</h4>"
   ]
  },
  {
   "cell_type": "code",
   "execution_count": 13,
   "metadata": {},
   "outputs": [],
   "source": [
    "# splitting the datasets with 80% for training and 20% testing , used stratify = y as data is highly inbalance  \n",
    "\n",
    "from sklearn.model_selection import train_test_split\n",
    "X_train, X_cv, y_train, y_cv = train_test_split(x, y, test_size=0.20, stratify=y)"
   ]
  },
  {
   "cell_type": "markdown",
   "metadata": {},
   "source": [
    "<h4>3.3. Distribution of y_i's in Train and Cross Validation datasets</h4>"
   ]
  },
  {
   "cell_type": "code",
   "execution_count": 14,
   "metadata": {},
   "outputs": [
    {
     "data": {
      "image/png": "[encoded data removed]",
      "text/plain": [
       "<Figure size 432x288 with 1 Axes>"
      ]
     },
     "metadata": {
      "needs_background": "light"
     },
     "output_type": "display_data"
    },
    {
     "name": "stdout",
     "output_type": "stream",
     "text": [
      "Number of data points in class 0 : 39681 ( 95.085 %)\n",
      "Number of data points in class 1 : 2051 ( 4.915 %)\n",
      "--------------------------------------------------------------------------------\n"
     ]
    },
    {
     "data": {
      "image/png": "[encoded data removed]",
      "text/plain": [
       "<Figure size 432x288 with 1 Axes>"
      ]
     },
     "metadata": {
      "needs_background": "light"
     },
     "output_type": "display_data"
    },
    {
     "name": "stdout",
     "output_type": "stream",
     "text": [
      "Number of data points in class 0 : 9921 ( 95.083 %)\n",
      "Number of data points in class 1 : 513 ( 4.917 %)\n"
     ]
    }
   ],
   "source": [
    "# it returns a dict, keys as Rating labels and values as the number of data points in that class\n",
    "train_class_distribution = pd.value_counts(y_train).sort_index()\n",
    "cv_class_distribution = pd.value_counts(y_cv).sort_index()\n",
    "\n",
    "train_class_distribution.plot(kind='bar')\n",
    "plt.xlabel('Class')\n",
    "plt.ylabel('Data points per Class')\n",
    "plt.title('Distribution of yi in train data')\n",
    "plt.grid()\n",
    "plt.show()\n",
    "\n",
    "# ref: argsort https://docs.scipy.org/doc/numpy/reference/generated/numpy.argsort.html\n",
    "# -(train_class_distribution.values): the minus sign will give us in decreasing order\n",
    "sorted_yi = np.argsort(-train_class_distribution.values)\n",
    "for i in sorted_yi:\n",
    "    print('Number of data points in class', i, ':',train_class_distribution.values[i], '(', np.round((train_class_distribution.values[i]/X_train.shape[0]*100), 3), '%)')\n",
    "\n",
    "    \n",
    "print('-'*80)\n",
    "cv_class_distribution.plot(kind='bar')\n",
    "plt.xlabel('Class')\n",
    "plt.ylabel('Data points per Class')\n",
    "plt.title('Distribution of yi in cross validation data')\n",
    "plt.grid()\n",
    "plt.show()\n",
    "\n",
    "# ref: argsort https://docs.scipy.org/doc/numpy/reference/generated/numpy.argsort.html\n",
    "# -(train_class_distribution.values): the minus sign will give us in decreasing order\n",
    "sorted_yi = np.argsort(-train_class_distribution.values)\n",
    "for i in sorted_yi:\n",
    "        print('Number of data points in class', i, ':',cv_class_distribution.values[i], '(', np.round((cv_class_distribution.values[i]/X_cv.shape[0]*100), 3), '%)')\n"
   ]
  },
  {
   "cell_type": "markdown",
   "metadata": {},
   "source": [
    "<h4>3.4. Imputing the column values with average value using SimpleImputer </h4>"
   ]
  },
  {
   "cell_type": "code",
   "execution_count": 16,
   "metadata": {},
   "outputs": [],
   "source": [
    "# https://scikit-learn.org/stable/modules/generated/sklearn.impute.SimpleImputer.html \n",
    "# imputing missing value with mean(average) value\n",
    "imp_medium = SimpleImputer(strategy=\"mean\", missing_values=np.nan)\n",
    "imp_medium.fit(X_train)\n",
    "X_train = imp_medium.transform(X_train)\n",
    "X_cv = imp_medium.transform(X_cv)"
   ]
  },
  {
   "cell_type": "markdown",
   "metadata": {},
   "source": [
    "<h4>3.5. Standardizing column values   </h4>"
   ]
  },
  {
   "cell_type": "code",
   "execution_count": 17,
   "metadata": {},
   "outputs": [],
   "source": [
    "scalar = StandardScaler()\n",
    "scalar.fit(X_train)\n",
    "joblib.dump(scalar,'trainscalar.pkl')\n",
    "X_train = scalar.transform(X_train)\n",
    "X_cv = scalar.transform(X_cv)"
   ]
  },
  {
   "cell_type": "code",
   "execution_count": 18,
   "metadata": {},
   "outputs": [],
   "source": [
    "X_train = pd.DataFrame(X_train)\n",
    "X_cv = pd.DataFrame(X_cv)"
   ]
  },
  {
   "cell_type": "code",
   "execution_count": 19,
   "metadata": {},
   "outputs": [],
   "source": [
    "# converting the train  , and cv data into the format that xgboost expects \n",
    "dtrain = xgb.DMatrix(X_train,label=y_train)\n",
    "dcv = xgb.DMatrix(X_cv,label=y_cv)"
   ]
  },
  {
   "cell_type": "markdown",
   "metadata": {},
   "source": [
    "<h1>4. Machine Learning Model</h1>"
   ]
  },
  {
   "cell_type": "markdown",
   "metadata": {},
   "source": [
    "<h3>4.1.1. XGboost Model</h3>"
   ]
  },
  {
   "cell_type": "markdown",
   "metadata": {},
   "source": [
    "<h3>4.1.2. Initializing the Parameters</h3>"
   ]
  },
  {
   "cell_type": "code",
   "execution_count": 23,
   "metadata": {},
   "outputs": [],
   "source": [
    "param = {\n",
    "    'max_depth': 9,  # the maximum depth of each tree\n",
    "    'eta': 0.3,  # the training step for each iteration\n",
    "    'silent': 1,  # logging mode - quiet\n",
    "    'objective': 'multi:softprob', \n",
    "    'eval_metric' : 'auc', # error evaluation for multiclass training\n",
    "    'num_class' : 2,\n",
    "    'min_child_weight' : 1\n",
    "    }  # the number of classes that exist in this datset\n",
    "num_round = 122 "
   ]
  },
  {
   "cell_type": "markdown",
   "metadata": {},
   "source": [
    "<h3>4.1.3. Training the model with above hyperparameters and plotting Train and CV AUC</h3>"
   ]
  },
  {
   "cell_type": "code",
   "execution_count": 24,
   "metadata": {},
   "outputs": [
    {
     "name": "stdout",
     "output_type": "stream",
     "text": [
      "CPU times: user 4min 26s, sys: 7.29 s, total: 4min 34s\n",
      "Wall time: 2min 25s\n",
      "CPU times: user 15.5 ms, sys: 97 µs, total: 15.6 ms\n",
      "Wall time: 11 ms\n",
      "CPU times: user 349 ms, sys: 0 ns, total: 349 ms\n",
      "Wall time: 214 ms\n"
     ]
    },
    {
     "data": {
      "image/png": "[encoded data removed]",
      "text/plain": [
       "<Figure size 432x288 with 1 Axes>"
      ]
     },
     "metadata": {
      "needs_background": "light"
     },
     "output_type": "display_data"
    }
   ],
   "source": [
    "%time bst = xgb.train(param, dtrain, num_round)\n",
    "\n",
    "%time y_train_pred_set1 = bst.predict(dtrain)[:,1]\n",
    "%time y_cv_pred_set1 = bst.predict(dcv)[:,1]\n",
    "\n",
    "train_fpr,train_tpr,train_threshold = roc_curve(y_train,y_train_pred_set1,pos_label=1)\n",
    "cv_fpr,cv_tpr,cv_threshold = roc_curve(y_cv,y_cv_pred_set1,pos_label=1)\n",
    "\n",
    "plt.plot(train_fpr,train_tpr,label='train AUC ='+str(auc(train_fpr,train_tpr)))\n",
    "plt.plot(cv_fpr,cv_tpr,label='cv AUC ='+str(auc(cv_fpr,cv_tpr)))\n",
    "plt.legend()\n",
    "\n",
    "plt.xlabel('max_depth and n_estimator: hyperparameters')\n",
    "plt.ylabel('AUC')\n",
    "plt.title(\"Error Plot\")\n",
    "plt.grid()\n",
    "plt.show()"
   ]
  },
  {
   "cell_type": "markdown",
   "metadata": {},
   "source": [
    "<h3>4.1.4. Saving the model in \"bankruptpred.model\"</h3>"
   ]
  },
  {
   "cell_type": "code",
   "execution_count": 22,
   "metadata": {},
   "outputs": [],
   "source": [
    "bst.save_model(\"bankruptpred.model\")"
   ]
  }
 ],
 "metadata": {
  "kernelspec": {
   "display_name": "Python 3",
   "language": "python",
   "name": "python3"
  },
  "language_info": {
   "codemirror_mode": {
    "name": "ipython",
    "version": 3
   },
   "file_extension": ".py",
   "mimetype": "text/x-python",
   "name": "python",
   "nbconvert_exporter": "python",
   "pygments_lexer": "ipython3",
   "version": "3.8.3"
  }
 },
 "nbformat": 4,
 "nbformat_minor": 4
}
